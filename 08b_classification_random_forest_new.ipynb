{
 "cells": [
  {
   "cell_type": "code",
   "execution_count": 1,
   "metadata": {},
   "outputs": [],
   "source": [
    "import pandas as pd\n",
    "import numpy as np\n",
    "import matplotlib.pyplot as plt"
   ]
  },
  {
   "cell_type": "code",
   "execution_count": 2,
   "metadata": {},
   "outputs": [],
   "source": [
    "df=pd.read_csv('IRIS.csv')"
   ]
  },
  {
   "cell_type": "code",
   "execution_count": 3,
   "metadata": {},
   "outputs": [
    {
     "data": {
      "text/html": [
       "<div>\n",
       "<style scoped>\n",
       "    .dataframe tbody tr th:only-of-type {\n",
       "        vertical-align: middle;\n",
       "    }\n",
       "\n",
       "    .dataframe tbody tr th {\n",
       "        vertical-align: top;\n",
       "    }\n",
       "\n",
       "    .dataframe thead th {\n",
       "        text-align: right;\n",
       "    }\n",
       "</style>\n",
       "<table border=\"1\" class=\"dataframe\">\n",
       "  <thead>\n",
       "    <tr style=\"text-align: right;\">\n",
       "      <th></th>\n",
       "      <th>sepal_length</th>\n",
       "      <th>sepal_width</th>\n",
       "      <th>petal_length</th>\n",
       "      <th>petal_width</th>\n",
       "      <th>species</th>\n",
       "    </tr>\n",
       "  </thead>\n",
       "  <tbody>\n",
       "    <tr>\n",
       "      <th>0</th>\n",
       "      <td>5.1</td>\n",
       "      <td>3.5</td>\n",
       "      <td>1.4</td>\n",
       "      <td>0.2</td>\n",
       "      <td>Iris-setosa</td>\n",
       "    </tr>\n",
       "    <tr>\n",
       "      <th>1</th>\n",
       "      <td>4.9</td>\n",
       "      <td>3.0</td>\n",
       "      <td>1.4</td>\n",
       "      <td>0.2</td>\n",
       "      <td>Iris-setosa</td>\n",
       "    </tr>\n",
       "    <tr>\n",
       "      <th>2</th>\n",
       "      <td>4.7</td>\n",
       "      <td>3.2</td>\n",
       "      <td>1.3</td>\n",
       "      <td>0.2</td>\n",
       "      <td>Iris-setosa</td>\n",
       "    </tr>\n",
       "    <tr>\n",
       "      <th>3</th>\n",
       "      <td>4.6</td>\n",
       "      <td>3.1</td>\n",
       "      <td>1.5</td>\n",
       "      <td>0.2</td>\n",
       "      <td>Iris-setosa</td>\n",
       "    </tr>\n",
       "    <tr>\n",
       "      <th>4</th>\n",
       "      <td>5.0</td>\n",
       "      <td>3.6</td>\n",
       "      <td>1.4</td>\n",
       "      <td>0.2</td>\n",
       "      <td>Iris-setosa</td>\n",
       "    </tr>\n",
       "  </tbody>\n",
       "</table>\n",
       "</div>"
      ],
      "text/plain": [
       "   sepal_length  sepal_width  petal_length  petal_width      species\n",
       "0           5.1          3.5           1.4          0.2  Iris-setosa\n",
       "1           4.9          3.0           1.4          0.2  Iris-setosa\n",
       "2           4.7          3.2           1.3          0.2  Iris-setosa\n",
       "3           4.6          3.1           1.5          0.2  Iris-setosa\n",
       "4           5.0          3.6           1.4          0.2  Iris-setosa"
      ]
     },
     "execution_count": 3,
     "metadata": {},
     "output_type": "execute_result"
    }
   ],
   "source": [
    "df.head()"
   ]
  },
  {
   "cell_type": "code",
   "execution_count": 4,
   "metadata": {},
   "outputs": [
    {
     "data": {
      "text/plain": [
       "(150, 5)"
      ]
     },
     "execution_count": 4,
     "metadata": {},
     "output_type": "execute_result"
    }
   ],
   "source": [
    "df.shape"
   ]
  },
  {
   "cell_type": "code",
   "execution_count": 5,
   "metadata": {},
   "outputs": [
    {
     "data": {
      "text/plain": [
       "Index(['sepal_length', 'sepal_width', 'petal_length', 'petal_width',\n",
       "       'species'],\n",
       "      dtype='object')"
      ]
     },
     "execution_count": 5,
     "metadata": {},
     "output_type": "execute_result"
    }
   ],
   "source": [
    "df.columns"
   ]
  },
  {
   "cell_type": "code",
   "execution_count": 6,
   "metadata": {},
   "outputs": [
    {
     "name": "stdout",
     "output_type": "stream",
     "text": [
      "<class 'pandas.core.frame.DataFrame'>\n",
      "RangeIndex: 150 entries, 0 to 149\n",
      "Data columns (total 5 columns):\n",
      " #   Column        Non-Null Count  Dtype  \n",
      "---  ------        --------------  -----  \n",
      " 0   sepal_length  150 non-null    float64\n",
      " 1   sepal_width   150 non-null    float64\n",
      " 2   petal_length  150 non-null    float64\n",
      " 3   petal_width   150 non-null    float64\n",
      " 4   species       150 non-null    object \n",
      "dtypes: float64(4), object(1)\n",
      "memory usage: 6.0+ KB\n"
     ]
    }
   ],
   "source": [
    "df.info()"
   ]
  },
  {
   "cell_type": "code",
   "execution_count": 7,
   "metadata": {
    "tags": []
   },
   "outputs": [
    {
     "data": {
      "text/html": [
       "<div>\n",
       "<style scoped>\n",
       "    .dataframe tbody tr th:only-of-type {\n",
       "        vertical-align: middle;\n",
       "    }\n",
       "\n",
       "    .dataframe tbody tr th {\n",
       "        vertical-align: top;\n",
       "    }\n",
       "\n",
       "    .dataframe thead th {\n",
       "        text-align: right;\n",
       "    }\n",
       "</style>\n",
       "<table border=\"1\" class=\"dataframe\">\n",
       "  <thead>\n",
       "    <tr style=\"text-align: right;\">\n",
       "      <th></th>\n",
       "      <th>sepal_length</th>\n",
       "      <th>sepal_width</th>\n",
       "      <th>petal_length</th>\n",
       "      <th>petal_width</th>\n",
       "    </tr>\n",
       "  </thead>\n",
       "  <tbody>\n",
       "    <tr>\n",
       "      <th>count</th>\n",
       "      <td>150.000000</td>\n",
       "      <td>150.000000</td>\n",
       "      <td>150.000000</td>\n",
       "      <td>150.000000</td>\n",
       "    </tr>\n",
       "    <tr>\n",
       "      <th>mean</th>\n",
       "      <td>5.843333</td>\n",
       "      <td>3.054000</td>\n",
       "      <td>3.758667</td>\n",
       "      <td>1.198667</td>\n",
       "    </tr>\n",
       "    <tr>\n",
       "      <th>std</th>\n",
       "      <td>0.828066</td>\n",
       "      <td>0.433594</td>\n",
       "      <td>1.764420</td>\n",
       "      <td>0.763161</td>\n",
       "    </tr>\n",
       "    <tr>\n",
       "      <th>min</th>\n",
       "      <td>4.300000</td>\n",
       "      <td>2.000000</td>\n",
       "      <td>1.000000</td>\n",
       "      <td>0.100000</td>\n",
       "    </tr>\n",
       "    <tr>\n",
       "      <th>25%</th>\n",
       "      <td>5.100000</td>\n",
       "      <td>2.800000</td>\n",
       "      <td>1.600000</td>\n",
       "      <td>0.300000</td>\n",
       "    </tr>\n",
       "    <tr>\n",
       "      <th>50%</th>\n",
       "      <td>5.800000</td>\n",
       "      <td>3.000000</td>\n",
       "      <td>4.350000</td>\n",
       "      <td>1.300000</td>\n",
       "    </tr>\n",
       "    <tr>\n",
       "      <th>75%</th>\n",
       "      <td>6.400000</td>\n",
       "      <td>3.300000</td>\n",
       "      <td>5.100000</td>\n",
       "      <td>1.800000</td>\n",
       "    </tr>\n",
       "    <tr>\n",
       "      <th>max</th>\n",
       "      <td>7.900000</td>\n",
       "      <td>4.400000</td>\n",
       "      <td>6.900000</td>\n",
       "      <td>2.500000</td>\n",
       "    </tr>\n",
       "  </tbody>\n",
       "</table>\n",
       "</div>"
      ],
      "text/plain": [
       "       sepal_length  sepal_width  petal_length  petal_width\n",
       "count    150.000000   150.000000    150.000000   150.000000\n",
       "mean       5.843333     3.054000      3.758667     1.198667\n",
       "std        0.828066     0.433594      1.764420     0.763161\n",
       "min        4.300000     2.000000      1.000000     0.100000\n",
       "25%        5.100000     2.800000      1.600000     0.300000\n",
       "50%        5.800000     3.000000      4.350000     1.300000\n",
       "75%        6.400000     3.300000      5.100000     1.800000\n",
       "max        7.900000     4.400000      6.900000     2.500000"
      ]
     },
     "execution_count": 7,
     "metadata": {},
     "output_type": "execute_result"
    }
   ],
   "source": [
    "df.describe()"
   ]
  },
  {
   "cell_type": "code",
   "execution_count": 8,
   "metadata": {},
   "outputs": [
    {
     "data": {
      "text/plain": [
       "Iris-setosa        50\n",
       "Iris-versicolor    50\n",
       "Iris-virginica     50\n",
       "Name: species, dtype: int64"
      ]
     },
     "execution_count": 8,
     "metadata": {},
     "output_type": "execute_result"
    }
   ],
   "source": [
    "df['species'].value_counts()"
   ]
  },
  {
   "cell_type": "markdown",
   "metadata": {},
   "source": [
    "**Split Data into Train and Test Data**"
   ]
  },
  {
   "cell_type": "code",
   "execution_count": 9,
   "metadata": {},
   "outputs": [],
   "source": [
    "input_df=df.drop('species',axis=1)\n",
    "output_df=df['species']"
   ]
  },
  {
   "cell_type": "code",
   "execution_count": 10,
   "metadata": {},
   "outputs": [],
   "source": [
    "from sklearn.model_selection import train_test_split\n",
    "x_train, x_test, y_train, y_test = train_test_split(input_df, output_df, test_size = 0.2, random_state = 42)"
   ]
  },
  {
   "cell_type": "code",
   "execution_count": 11,
   "metadata": {},
   "outputs": [
    {
     "ename": "KeyError",
     "evalue": "'age'",
     "output_type": "error",
     "traceback": [
      "\u001b[1;31m---------------------------------------------------------------------------\u001b[0m",
      "\u001b[1;31mKeyError\u001b[0m                                  Traceback (most recent call last)",
      "File \u001b[1;32m~\\anaconda3\\Lib\\site-packages\\pandas\\core\\indexes\\base.py:3802\u001b[0m, in \u001b[0;36mIndex.get_loc\u001b[1;34m(self, key, method, tolerance)\u001b[0m\n\u001b[0;32m   3801\u001b[0m \u001b[38;5;28;01mtry\u001b[39;00m:\n\u001b[1;32m-> 3802\u001b[0m     \u001b[38;5;28;01mreturn\u001b[39;00m \u001b[38;5;28mself\u001b[39m\u001b[38;5;241m.\u001b[39m_engine\u001b[38;5;241m.\u001b[39mget_loc(casted_key)\n\u001b[0;32m   3803\u001b[0m \u001b[38;5;28;01mexcept\u001b[39;00m \u001b[38;5;167;01mKeyError\u001b[39;00m \u001b[38;5;28;01mas\u001b[39;00m err:\n",
      "File \u001b[1;32m~\\anaconda3\\Lib\\site-packages\\pandas\\_libs\\index.pyx:138\u001b[0m, in \u001b[0;36mpandas._libs.index.IndexEngine.get_loc\u001b[1;34m()\u001b[0m\n",
      "File \u001b[1;32m~\\anaconda3\\Lib\\site-packages\\pandas\\_libs\\index.pyx:165\u001b[0m, in \u001b[0;36mpandas._libs.index.IndexEngine.get_loc\u001b[1;34m()\u001b[0m\n",
      "File \u001b[1;32mpandas\\_libs\\hashtable_class_helper.pxi:5745\u001b[0m, in \u001b[0;36mpandas._libs.hashtable.PyObjectHashTable.get_item\u001b[1;34m()\u001b[0m\n",
      "File \u001b[1;32mpandas\\_libs\\hashtable_class_helper.pxi:5753\u001b[0m, in \u001b[0;36mpandas._libs.hashtable.PyObjectHashTable.get_item\u001b[1;34m()\u001b[0m\n",
      "\u001b[1;31mKeyError\u001b[0m: 'age'",
      "\nThe above exception was the direct cause of the following exception:\n",
      "\u001b[1;31mKeyError\u001b[0m                                  Traceback (most recent call last)",
      "Cell \u001b[1;32mIn[11], line 2\u001b[0m\n\u001b[0;32m      1\u001b[0m \u001b[38;5;66;03m# Convert categorical type data to numeric, with non-numeric like \"?\" values to NaN\u001b[39;00m\n\u001b[1;32m----> 2\u001b[0m x_train[\u001b[38;5;124m'\u001b[39m\u001b[38;5;124mage\u001b[39m\u001b[38;5;124m'\u001b[39m] \u001b[38;5;241m=\u001b[39m pd\u001b[38;5;241m.\u001b[39mto_numeric(x_train[\u001b[38;5;124m'\u001b[39m\u001b[38;5;124mage\u001b[39m\u001b[38;5;124m'\u001b[39m], errors\u001b[38;5;241m=\u001b[39m\u001b[38;5;124m'\u001b[39m\u001b[38;5;124mcoerce\u001b[39m\u001b[38;5;124m'\u001b[39m)\n\u001b[0;32m      3\u001b[0m x_test[\u001b[38;5;124m'\u001b[39m\u001b[38;5;124mage\u001b[39m\u001b[38;5;124m'\u001b[39m] \u001b[38;5;241m=\u001b[39m pd\u001b[38;5;241m.\u001b[39mto_numeric(x_train[\u001b[38;5;124m'\u001b[39m\u001b[38;5;124mage\u001b[39m\u001b[38;5;124m'\u001b[39m], errors\u001b[38;5;241m=\u001b[39m\u001b[38;5;124m'\u001b[39m\u001b[38;5;124mcoerce\u001b[39m\u001b[38;5;124m'\u001b[39m)\n",
      "File \u001b[1;32m~\\anaconda3\\Lib\\site-packages\\pandas\\core\\frame.py:3807\u001b[0m, in \u001b[0;36mDataFrame.__getitem__\u001b[1;34m(self, key)\u001b[0m\n\u001b[0;32m   3805\u001b[0m \u001b[38;5;28;01mif\u001b[39;00m \u001b[38;5;28mself\u001b[39m\u001b[38;5;241m.\u001b[39mcolumns\u001b[38;5;241m.\u001b[39mnlevels \u001b[38;5;241m>\u001b[39m \u001b[38;5;241m1\u001b[39m:\n\u001b[0;32m   3806\u001b[0m     \u001b[38;5;28;01mreturn\u001b[39;00m \u001b[38;5;28mself\u001b[39m\u001b[38;5;241m.\u001b[39m_getitem_multilevel(key)\n\u001b[1;32m-> 3807\u001b[0m indexer \u001b[38;5;241m=\u001b[39m \u001b[38;5;28mself\u001b[39m\u001b[38;5;241m.\u001b[39mcolumns\u001b[38;5;241m.\u001b[39mget_loc(key)\n\u001b[0;32m   3808\u001b[0m \u001b[38;5;28;01mif\u001b[39;00m is_integer(indexer):\n\u001b[0;32m   3809\u001b[0m     indexer \u001b[38;5;241m=\u001b[39m [indexer]\n",
      "File \u001b[1;32m~\\anaconda3\\Lib\\site-packages\\pandas\\core\\indexes\\base.py:3804\u001b[0m, in \u001b[0;36mIndex.get_loc\u001b[1;34m(self, key, method, tolerance)\u001b[0m\n\u001b[0;32m   3802\u001b[0m     \u001b[38;5;28;01mreturn\u001b[39;00m \u001b[38;5;28mself\u001b[39m\u001b[38;5;241m.\u001b[39m_engine\u001b[38;5;241m.\u001b[39mget_loc(casted_key)\n\u001b[0;32m   3803\u001b[0m \u001b[38;5;28;01mexcept\u001b[39;00m \u001b[38;5;167;01mKeyError\u001b[39;00m \u001b[38;5;28;01mas\u001b[39;00m err:\n\u001b[1;32m-> 3804\u001b[0m     \u001b[38;5;28;01mraise\u001b[39;00m \u001b[38;5;167;01mKeyError\u001b[39;00m(key) \u001b[38;5;28;01mfrom\u001b[39;00m \u001b[38;5;21;01merr\u001b[39;00m\n\u001b[0;32m   3805\u001b[0m \u001b[38;5;28;01mexcept\u001b[39;00m \u001b[38;5;167;01mTypeError\u001b[39;00m:\n\u001b[0;32m   3806\u001b[0m     \u001b[38;5;66;03m# If we have a listlike key, _check_indexing_error will raise\u001b[39;00m\n\u001b[0;32m   3807\u001b[0m     \u001b[38;5;66;03m#  InvalidIndexError. Otherwise we fall through and re-raise\u001b[39;00m\n\u001b[0;32m   3808\u001b[0m     \u001b[38;5;66;03m#  the TypeError.\u001b[39;00m\n\u001b[0;32m   3809\u001b[0m     \u001b[38;5;28mself\u001b[39m\u001b[38;5;241m.\u001b[39m_check_indexing_error(key)\n",
      "\u001b[1;31mKeyError\u001b[0m: 'age'"
     ]
    }
   ],
   "source": [
    "# Convert categorical type data to numeric, with non-numeric like \"?\" values to NaN\n",
    "x_train['age'] = pd.to_numeric(x_train['age'], errors='coerce')\n",
    "x_test['age'] = pd.to_numeric(x_train['age'], errors='coerce')"
   ]
  },
  {
   "cell_type": "code",
   "execution_count": 12,
   "metadata": {},
   "outputs": [
    {
     "data": {
      "text/html": [
       "<style>#sk-container-id-1 {color: black;}#sk-container-id-1 pre{padding: 0;}#sk-container-id-1 div.sk-toggleable {background-color: white;}#sk-container-id-1 label.sk-toggleable__label {cursor: pointer;display: block;width: 100%;margin-bottom: 0;padding: 0.3em;box-sizing: border-box;text-align: center;}#sk-container-id-1 label.sk-toggleable__label-arrow:before {content: \"▸\";float: left;margin-right: 0.25em;color: #696969;}#sk-container-id-1 label.sk-toggleable__label-arrow:hover:before {color: black;}#sk-container-id-1 div.sk-estimator:hover label.sk-toggleable__label-arrow:before {color: black;}#sk-container-id-1 div.sk-toggleable__content {max-height: 0;max-width: 0;overflow: hidden;text-align: left;background-color: #f0f8ff;}#sk-container-id-1 div.sk-toggleable__content pre {margin: 0.2em;color: black;border-radius: 0.25em;background-color: #f0f8ff;}#sk-container-id-1 input.sk-toggleable__control:checked~div.sk-toggleable__content {max-height: 200px;max-width: 100%;overflow: auto;}#sk-container-id-1 input.sk-toggleable__control:checked~label.sk-toggleable__label-arrow:before {content: \"▾\";}#sk-container-id-1 div.sk-estimator input.sk-toggleable__control:checked~label.sk-toggleable__label {background-color: #d4ebff;}#sk-container-id-1 div.sk-label input.sk-toggleable__control:checked~label.sk-toggleable__label {background-color: #d4ebff;}#sk-container-id-1 input.sk-hidden--visually {border: 0;clip: rect(1px 1px 1px 1px);clip: rect(1px, 1px, 1px, 1px);height: 1px;margin: -1px;overflow: hidden;padding: 0;position: absolute;width: 1px;}#sk-container-id-1 div.sk-estimator {font-family: monospace;background-color: #f0f8ff;border: 1px dotted black;border-radius: 0.25em;box-sizing: border-box;margin-bottom: 0.5em;}#sk-container-id-1 div.sk-estimator:hover {background-color: #d4ebff;}#sk-container-id-1 div.sk-parallel-item::after {content: \"\";width: 100%;border-bottom: 1px solid gray;flex-grow: 1;}#sk-container-id-1 div.sk-label:hover label.sk-toggleable__label {background-color: #d4ebff;}#sk-container-id-1 div.sk-serial::before {content: \"\";position: absolute;border-left: 1px solid gray;box-sizing: border-box;top: 0;bottom: 0;left: 50%;z-index: 0;}#sk-container-id-1 div.sk-serial {display: flex;flex-direction: column;align-items: center;background-color: white;padding-right: 0.2em;padding-left: 0.2em;position: relative;}#sk-container-id-1 div.sk-item {position: relative;z-index: 1;}#sk-container-id-1 div.sk-parallel {display: flex;align-items: stretch;justify-content: center;background-color: white;position: relative;}#sk-container-id-1 div.sk-item::before, #sk-container-id-1 div.sk-parallel-item::before {content: \"\";position: absolute;border-left: 1px solid gray;box-sizing: border-box;top: 0;bottom: 0;left: 50%;z-index: -1;}#sk-container-id-1 div.sk-parallel-item {display: flex;flex-direction: column;z-index: 1;position: relative;background-color: white;}#sk-container-id-1 div.sk-parallel-item:first-child::after {align-self: flex-end;width: 50%;}#sk-container-id-1 div.sk-parallel-item:last-child::after {align-self: flex-start;width: 50%;}#sk-container-id-1 div.sk-parallel-item:only-child::after {width: 0;}#sk-container-id-1 div.sk-dashed-wrapped {border: 1px dashed gray;margin: 0 0.4em 0.5em 0.4em;box-sizing: border-box;padding-bottom: 0.4em;background-color: white;}#sk-container-id-1 div.sk-label label {font-family: monospace;font-weight: bold;display: inline-block;line-height: 1.2em;}#sk-container-id-1 div.sk-label-container {text-align: center;}#sk-container-id-1 div.sk-container {/* jupyter's `normalize.less` sets `[hidden] { display: none; }` but bootstrap.min.css set `[hidden] { display: none !important; }` so we also need the `!important` here to be able to override the default hidden behavior on the sphinx rendered scikit-learn.org. See: https://github.com/scikit-learn/scikit-learn/issues/21755 */display: inline-block !important;position: relative;}#sk-container-id-1 div.sk-text-repr-fallback {display: none;}</style><div id=\"sk-container-id-1\" class=\"sk-top-container\"><div class=\"sk-text-repr-fallback\"><pre>RandomForestClassifier(max_depth=4)</pre><b>In a Jupyter environment, please rerun this cell to show the HTML representation or trust the notebook. <br />On GitHub, the HTML representation is unable to render, please try loading this page with nbviewer.org.</b></div><div class=\"sk-container\" hidden><div class=\"sk-item\"><div class=\"sk-estimator sk-toggleable\"><input class=\"sk-toggleable__control sk-hidden--visually\" id=\"sk-estimator-id-1\" type=\"checkbox\" checked><label for=\"sk-estimator-id-1\" class=\"sk-toggleable__label sk-toggleable__label-arrow\">RandomForestClassifier</label><div class=\"sk-toggleable__content\"><pre>RandomForestClassifier(max_depth=4)</pre></div></div></div></div></div>"
      ],
      "text/plain": [
       "RandomForestClassifier(max_depth=4)"
      ]
     },
     "execution_count": 12,
     "metadata": {},
     "output_type": "execute_result"
    }
   ],
   "source": [
    "from sklearn.ensemble import RandomForestClassifier\n",
    "import warnings\n",
    "warnings.filterwarnings('ignore')\n",
    "\n",
    "RF_class = RandomForestClassifier(criterion= 'gini',max_depth=4)\n",
    "RF_class.fit(x_train, y_train)\n"
   ]
  },
  {
   "cell_type": "code",
   "execution_count": 13,
   "metadata": {},
   "outputs": [],
   "source": [
    "y_predict=RF_class.predict(x_test)"
   ]
  },
  {
   "cell_type": "code",
   "execution_count": 14,
   "metadata": {},
   "outputs": [],
   "source": [
    "import pickle as pkl\n",
    "filename = 'RF_class.pkl'\n",
    "pkl.dump(RF_class, open(filename, 'wb'))"
   ]
  },
  {
   "cell_type": "code",
   "execution_count": 15,
   "metadata": {},
   "outputs": [
    {
     "name": "stdout",
     "output_type": "stream",
     "text": [
      "\n",
      "Classification Report\n",
      "\n",
      "              precision    recall  f1-score   support\n",
      "\n",
      "           1       1.00      1.00      1.00        10\n",
      "           2       1.00      1.00      1.00         9\n",
      "           3       1.00      1.00      1.00        11\n",
      "\n",
      "    accuracy                           1.00        30\n",
      "   macro avg       1.00      1.00      1.00        30\n",
      "weighted avg       1.00      1.00      1.00        30\n",
      "\n"
     ]
    }
   ],
   "source": [
    "from sklearn.metrics import classification_report\n",
    "print('\\nClassification Report\\n')\n",
    "print(classification_report(y_test, y_predict, target_names=['1','2','3']))"
   ]
  },
  {
   "cell_type": "markdown",
   "metadata": {},
   "source": [
    "**Thank You**"
   ]
  },
  {
   "cell_type": "code",
   "execution_count": 16,
   "metadata": {},
   "outputs": [
    {
     "name": "stdout",
     "output_type": "stream",
     "text": [
      "1.5.3\n"
     ]
    }
   ],
   "source": [
    "print(pd.__version__)"
   ]
  },
  {
   "cell_type": "code",
   "execution_count": 17,
   "metadata": {
    "tags": []
   },
   "outputs": [
    {
     "name": "stdout",
     "output_type": "stream",
     "text": [
      "1.24.3\n"
     ]
    }
   ],
   "source": [
    "print(np.__version__)"
   ]
  },
  {
   "cell_type": "code",
   "execution_count": 18,
   "metadata": {
    "tags": []
   },
   "outputs": [
    {
     "name": "stdout",
     "output_type": "stream",
     "text": [
      "# packages in environment at C:\\Users\\Khansa\\anaconda3:\n",
      "#\n",
      "# Name                    Version                   Build  Channel\n",
      "scikit-image              0.20.0          py311h3513d60_0  \n",
      "scikit-learn              1.3.0           py311hf62ec03_0  \n",
      "scikit-learn-intelex      2023.1.1        py311haa95532_0  \n",
      "\n",
      "Note: you may need to restart the kernel to use updated packages.\n"
     ]
    }
   ],
   "source": [
    "conda list scikit"
   ]
  },
  {
   "cell_type": "code",
   "execution_count": 19,
   "metadata": {},
   "outputs": [
    {
     "name": "stdout",
     "output_type": "stream",
     "text": [
      "Collecting scikit-learn==1.3.2\n",
      "  Obtaining dependency information for scikit-learn==1.3.2 from https://files.pythonhosted.org/packages/4e/ba/ce9bd1cd4953336a0e213b29cb80bb11816f2a93de8c99f88ef0b446ad0c/scikit_learn-1.3.2-cp311-cp311-win_amd64.whl.metadata\n",
      "  Downloading scikit_learn-1.3.2-cp311-cp311-win_amd64.whl.metadata (11 kB)\n",
      "Requirement already satisfied: numpy<2.0,>=1.17.3 in c:\\users\\khansa\\anaconda3\\lib\\site-packages (from scikit-learn==1.3.2) (1.24.3)\n",
      "Requirement already satisfied: scipy>=1.5.0 in c:\\users\\khansa\\anaconda3\\lib\\site-packages (from scikit-learn==1.3.2) (1.10.1)\n",
      "Requirement already satisfied: joblib>=1.1.1 in c:\\users\\khansa\\anaconda3\\lib\\site-packages (from scikit-learn==1.3.2) (1.2.0)\n",
      "Requirement already satisfied: threadpoolctl>=2.0.0 in c:\\users\\khansa\\anaconda3\\lib\\site-packages (from scikit-learn==1.3.2) (2.2.0)\n",
      "Downloading scikit_learn-1.3.2-cp311-cp311-win_amd64.whl (9.2 MB)\n",
      "   ---------------------------------------- 0.0/9.2 MB ? eta -:--:--\n",
      "   ---------------------------------------- 0.0/9.2 MB ? eta -:--:--\n",
      "   ---------------------------------------- 0.0/9.2 MB ? eta -:--:--\n",
      "   ---------------------------------------- 0.0/9.2 MB 217.9 kB/s eta 0:00:43\n",
      "   ---------------------------------------- 0.0/9.2 MB 259.2 kB/s eta 0:00:36\n",
      "   ---------------------------------------- 0.0/9.2 MB 279.3 kB/s eta 0:00:33\n",
      "   ---------------------------------------- 0.1/9.2 MB 297.7 kB/s eta 0:00:31\n",
      "   ---------------------------------------- 0.1/9.2 MB 348.6 kB/s eta 0:00:27\n",
      "   ---------------------------------------- 0.1/9.2 MB 409.6 kB/s eta 0:00:23\n",
      "    --------------------------------------- 0.1/9.2 MB 448.2 kB/s eta 0:00:21\n",
      "    --------------------------------------- 0.2/9.2 MB 455.1 kB/s eta 0:00:20\n",
      "    --------------------------------------- 0.2/9.2 MB 491.5 kB/s eta 0:00:19\n",
      "    --------------------------------------- 0.2/9.2 MB 491.0 kB/s eta 0:00:19\n",
      "   - -------------------------------------- 0.2/9.2 MB 464.5 kB/s eta 0:00:20\n",
      "   - -------------------------------------- 0.3/9.2 MB 500.5 kB/s eta 0:00:18\n",
      "   - -------------------------------------- 0.3/9.2 MB 512.9 kB/s eta 0:00:18\n",
      "   - -------------------------------------- 0.3/9.2 MB 511.2 kB/s eta 0:00:18\n",
      "   - -------------------------------------- 0.4/9.2 MB 565.6 kB/s eta 0:00:16\n",
      "   - -------------------------------------- 0.4/9.2 MB 569.7 kB/s eta 0:00:16\n",
      "   -- ------------------------------------- 0.5/9.2 MB 601.6 kB/s eta 0:00:15\n",
      "   -- ------------------------------------- 0.5/9.2 MB 604.6 kB/s eta 0:00:15\n",
      "   -- ------------------------------------- 0.5/9.2 MB 617.6 kB/s eta 0:00:15\n",
      "   -- ------------------------------------- 0.5/9.2 MB 617.6 kB/s eta 0:00:15\n",
      "   -- ------------------------------------- 0.6/9.2 MB 599.7 kB/s eta 0:00:15\n",
      "   -- ------------------------------------- 0.6/9.2 MB 604.2 kB/s eta 0:00:15\n",
      "   -- ------------------------------------- 0.7/9.2 MB 625.9 kB/s eta 0:00:14\n",
      "   --- ------------------------------------ 0.7/9.2 MB 654.8 kB/s eta 0:00:13\n",
      "   --- ------------------------------------ 0.8/9.2 MB 710.0 kB/s eta 0:00:12\n",
      "   --- ------------------------------------ 0.8/9.2 MB 699.0 kB/s eta 0:00:12\n",
      "   --- ------------------------------------ 0.9/9.2 MB 722.9 kB/s eta 0:00:12\n",
      "   ---- ----------------------------------- 1.0/9.2 MB 760.3 kB/s eta 0:00:11\n",
      "   ---- ----------------------------------- 1.0/9.2 MB 772.1 kB/s eta 0:00:11\n",
      "   ---- ----------------------------------- 1.0/9.2 MB 772.1 kB/s eta 0:00:11\n",
      "   ---- ----------------------------------- 1.0/9.2 MB 772.1 kB/s eta 0:00:11\n",
      "   ---- ----------------------------------- 1.0/9.2 MB 772.1 kB/s eta 0:00:11\n",
      "   ---- ----------------------------------- 1.0/9.2 MB 772.1 kB/s eta 0:00:11\n",
      "   ---- ----------------------------------- 1.0/9.2 MB 772.1 kB/s eta 0:00:11\n",
      "   ---- ----------------------------------- 1.1/9.2 MB 687.4 kB/s eta 0:00:12\n",
      "   ---- ----------------------------------- 1.1/9.2 MB 687.4 kB/s eta 0:00:12\n",
      "   ---- ----------------------------------- 1.1/9.2 MB 649.1 kB/s eta 0:00:13\n",
      "   ----- ---------------------------------- 1.2/9.2 MB 696.4 kB/s eta 0:00:12\n",
      "   ----- ---------------------------------- 1.3/9.2 MB 707.4 kB/s eta 0:00:12\n",
      "   ----- ---------------------------------- 1.3/9.2 MB 724.0 kB/s eta 0:00:11\n",
      "   ----- ---------------------------------- 1.3/9.2 MB 724.0 kB/s eta 0:00:11\n",
      "   ----- ---------------------------------- 1.4/9.2 MB 709.4 kB/s eta 0:00:12\n",
      "   ------ --------------------------------- 1.4/9.2 MB 730.3 kB/s eta 0:00:11\n",
      "   ------ --------------------------------- 1.4/9.2 MB 711.9 kB/s eta 0:00:11\n",
      "   ------ --------------------------------- 1.5/9.2 MB 735.7 kB/s eta 0:00:11\n",
      "   ------- -------------------------------- 1.6/9.2 MB 778.2 kB/s eta 0:00:10\n",
      "   ------- -------------------------------- 1.8/9.2 MB 819.2 kB/s eta 0:00:10\n",
      "   ------- -------------------------------- 1.8/9.2 MB 835.5 kB/s eta 0:00:09\n",
      "   ------- -------------------------------- 1.8/9.2 MB 827.0 kB/s eta 0:00:09\n",
      "   ------- -------------------------------- 1.8/9.2 MB 827.0 kB/s eta 0:00:09\n",
      "   ------- -------------------------------- 1.8/9.2 MB 827.0 kB/s eta 0:00:09\n",
      "   ------- -------------------------------- 1.8/9.2 MB 827.0 kB/s eta 0:00:09\n",
      "   ------- -------------------------------- 1.8/9.2 MB 827.0 kB/s eta 0:00:09\n",
      "   ------- -------------------------------- 1.8/9.2 MB 827.0 kB/s eta 0:00:09\n",
      "   -------- ------------------------------- 1.9/9.2 MB 775.6 kB/s eta 0:00:10\n",
      "   -------- ------------------------------- 1.9/9.2 MB 775.6 kB/s eta 0:00:10\n",
      "   -------- ------------------------------- 1.9/9.2 MB 775.6 kB/s eta 0:00:10\n",
      "   -------- ------------------------------- 2.0/9.2 MB 753.3 kB/s eta 0:00:10\n",
      "   -------- ------------------------------- 2.0/9.2 MB 753.3 kB/s eta 0:00:10\n",
      "   -------- ------------------------------- 2.0/9.2 MB 753.3 kB/s eta 0:00:10\n",
      "   -------- ------------------------------- 2.0/9.2 MB 753.3 kB/s eta 0:00:10\n",
      "   -------- ------------------------------- 2.0/9.2 MB 753.3 kB/s eta 0:00:10\n",
      "   -------- ------------------------------- 2.0/9.2 MB 753.3 kB/s eta 0:00:10\n",
      "   -------- ------------------------------- 2.0/9.2 MB 753.3 kB/s eta 0:00:10\n",
      "   -------- ------------------------------- 2.0/9.2 MB 753.3 kB/s eta 0:00:10\n",
      "   -------- ------------------------------- 2.0/9.2 MB 753.3 kB/s eta 0:00:10\n",
      "   --------- ------------------------------ 2.1/9.2 MB 689.2 kB/s eta 0:00:11\n",
      "   --------- ------------------------------ 2.1/9.2 MB 689.2 kB/s eta 0:00:11\n",
      "   --------- ------------------------------ 2.2/9.2 MB 714.9 kB/s eta 0:00:10\n",
      "   ---------- ----------------------------- 2.3/9.2 MB 730.3 kB/s eta 0:00:10\n",
      "   ---------- ----------------------------- 2.4/9.2 MB 745.2 kB/s eta 0:00:10\n",
      "   ---------- ----------------------------- 2.5/9.2 MB 769.2 kB/s eta 0:00:09\n",
      "   ---------- ----------------------------- 2.5/9.2 MB 769.2 kB/s eta 0:00:09\n",
      "   ---------- ----------------------------- 2.5/9.2 MB 769.2 kB/s eta 0:00:09\n",
      "   ---------- ----------------------------- 2.5/9.2 MB 769.2 kB/s eta 0:00:09\n",
      "   ---------- ----------------------------- 2.5/9.2 MB 769.2 kB/s eta 0:00:09\n",
      "   ---------- ----------------------------- 2.5/9.2 MB 769.2 kB/s eta 0:00:09\n",
      "   ---------- ----------------------------- 2.5/9.2 MB 769.2 kB/s eta 0:00:09\n",
      "   ----------- ---------------------------- 2.6/9.2 MB 742.2 kB/s eta 0:00:09\n",
      "   ----------- ---------------------------- 2.6/9.2 MB 742.2 kB/s eta 0:00:09\n",
      "   ----------- ---------------------------- 2.6/9.2 MB 742.2 kB/s eta 0:00:09\n",
      "   ----------- ---------------------------- 2.6/9.2 MB 742.2 kB/s eta 0:00:09\n",
      "   ----------- ---------------------------- 2.6/9.2 MB 742.2 kB/s eta 0:00:09\n",
      "   ------------ --------------------------- 2.8/9.2 MB 740.2 kB/s eta 0:00:09\n",
      "   ------------ --------------------------- 2.8/9.2 MB 740.2 kB/s eta 0:00:09\n",
      "   ------------ --------------------------- 2.8/9.2 MB 740.2 kB/s eta 0:00:09\n",
      "   ------------ --------------------------- 2.8/9.2 MB 740.2 kB/s eta 0:00:09\n",
      "   ------------ --------------------------- 2.9/9.2 MB 735.9 kB/s eta 0:00:09\n",
      "   ------------ --------------------------- 2.9/9.2 MB 735.9 kB/s eta 0:00:09\n",
      "   ------------ --------------------------- 2.9/9.2 MB 735.9 kB/s eta 0:00:09\n",
      "   ------------ --------------------------- 2.9/9.2 MB 735.9 kB/s eta 0:00:09\n",
      "   ------------ --------------------------- 2.9/9.2 MB 735.9 kB/s eta 0:00:09\n",
      "   ------------- -------------------------- 3.0/9.2 MB 732.0 kB/s eta 0:00:09\n",
      "   ------------- -------------------------- 3.1/9.2 MB 726.2 kB/s eta 0:00:09\n",
      "   -------------- ------------------------- 3.2/9.2 MB 759.0 kB/s eta 0:00:08\n",
      "   -------------- ------------------------- 3.4/9.2 MB 786.8 kB/s eta 0:00:08\n",
      "   -------------- ------------------------- 3.5/9.2 MB 794.8 kB/s eta 0:00:08\n",
      "   --------------- ------------------------ 3.5/9.2 MB 799.1 kB/s eta 0:00:08\n",
      "   --------------- ------------------------ 3.5/9.2 MB 795.8 kB/s eta 0:00:08\n",
      "   --------------- ------------------------ 3.5/9.2 MB 792.0 kB/s eta 0:00:08\n",
      "   --------------- ------------------------ 3.5/9.2 MB 792.0 kB/s eta 0:00:08\n",
      "   --------------- ------------------------ 3.5/9.2 MB 792.0 kB/s eta 0:00:08\n",
      "   --------------- ------------------------ 3.5/9.2 MB 792.0 kB/s eta 0:00:08\n",
      "   --------------- ------------------------ 3.5/9.2 MB 792.0 kB/s eta 0:00:08\n",
      "   --------------- ------------------------ 3.7/9.2 MB 782.8 kB/s eta 0:00:08\n",
      "   --------------- ------------------------ 3.7/9.2 MB 782.8 kB/s eta 0:00:08\n",
      "   --------------- ------------------------ 3.7/9.2 MB 782.8 kB/s eta 0:00:08\n",
      "   --------------- ------------------------ 3.7/9.2 MB 782.8 kB/s eta 0:00:08\n",
      "   ---------------- ----------------------- 3.8/9.2 MB 771.2 kB/s eta 0:00:08\n",
      "   ---------------- ----------------------- 3.8/9.2 MB 776.7 kB/s eta 0:00:07\n",
      "   ---------------- ----------------------- 3.8/9.2 MB 776.7 kB/s eta 0:00:07\n",
      "   ---------------- ----------------------- 3.8/9.2 MB 776.7 kB/s eta 0:00:07\n",
      "   ---------------- ----------------------- 3.8/9.2 MB 776.7 kB/s eta 0:00:07\n",
      "   ---------------- ----------------------- 3.8/9.2 MB 776.7 kB/s eta 0:00:07\n",
      "   ---------------- ----------------------- 3.8/9.2 MB 776.7 kB/s eta 0:00:07\n",
      "   ----------------- ---------------------- 4.0/9.2 MB 766.2 kB/s eta 0:00:07\n",
      "   ----------------- ---------------------- 4.0/9.2 MB 766.2 kB/s eta 0:00:07\n",
      "   ----------------- ---------------------- 4.0/9.2 MB 758.4 kB/s eta 0:00:07\n",
      "   ------------------ --------------------- 4.2/9.2 MB 782.5 kB/s eta 0:00:07\n",
      "   ------------------ --------------------- 4.2/9.2 MB 782.5 kB/s eta 0:00:07\n",
      "   ------------------ --------------------- 4.3/9.2 MB 799.2 kB/s eta 0:00:07\n",
      "   ------------------ --------------------- 4.4/9.2 MB 797.9 kB/s eta 0:00:07\n",
      "   ------------------- -------------------- 4.5/9.2 MB 821.1 kB/s eta 0:00:06\n",
      "   -------------------- ------------------- 4.6/9.2 MB 832.6 kB/s eta 0:00:06\n",
      "   -------------------- ------------------- 4.7/9.2 MB 850.4 kB/s eta 0:00:06\n",
      "   --------------------- ------------------ 4.9/9.2 MB 870.2 kB/s eta 0:00:05\n",
      "   ---------------------- ----------------- 5.1/9.2 MB 892.9 kB/s eta 0:00:05\n",
      "   ---------------------- ----------------- 5.2/9.2 MB 907.8 kB/s eta 0:00:05\n",
      "   ---------------------- ----------------- 5.2/9.2 MB 907.8 kB/s eta 0:00:05\n",
      "   ---------------------- ----------------- 5.2/9.2 MB 907.8 kB/s eta 0:00:05\n",
      "   ---------------------- ----------------- 5.2/9.2 MB 907.8 kB/s eta 0:00:05\n",
      "   ---------------------- ----------------- 5.2/9.2 MB 907.8 kB/s eta 0:00:05\n",
      "   ---------------------- ----------------- 5.2/9.2 MB 907.8 kB/s eta 0:00:05\n",
      "   ---------------------- ----------------- 5.2/9.2 MB 907.8 kB/s eta 0:00:05\n",
      "   ---------------------- ----------------- 5.2/9.2 MB 907.8 kB/s eta 0:00:05\n",
      "   ---------------------- ----------------- 5.2/9.2 MB 907.8 kB/s eta 0:00:05\n",
      "   ---------------------- ----------------- 5.3/9.2 MB 853.8 kB/s eta 0:00:05\n",
      "   ----------------------- ---------------- 5.3/9.2 MB 858.2 kB/s eta 0:00:05\n",
      "   ----------------------- ---------------- 5.3/9.2 MB 858.2 kB/s eta 0:00:05\n",
      "   ----------------------- ---------------- 5.3/9.2 MB 858.2 kB/s eta 0:00:05\n",
      "   ----------------------- ---------------- 5.3/9.2 MB 858.2 kB/s eta 0:00:05\n",
      "   ----------------------- ---------------- 5.3/9.2 MB 858.2 kB/s eta 0:00:05\n",
      "   ----------------------- ---------------- 5.4/9.2 MB 842.8 kB/s eta 0:00:05\n",
      "   ----------------------- ---------------- 5.4/9.2 MB 842.8 kB/s eta 0:00:05\n",
      "   ----------------------- ---------------- 5.4/9.2 MB 842.8 kB/s eta 0:00:05\n",
      "   ----------------------- ---------------- 5.4/9.2 MB 842.8 kB/s eta 0:00:05\n",
      "   ----------------------- ---------------- 5.4/9.2 MB 819.9 kB/s eta 0:00:05\n",
      "   ----------------------- ---------------- 5.4/9.2 MB 819.9 kB/s eta 0:00:05\n",
      "   ----------------------- ---------------- 5.4/9.2 MB 819.9 kB/s eta 0:00:05\n",
      "   ----------------------- ---------------- 5.4/9.2 MB 819.9 kB/s eta 0:00:05\n",
      "   ----------------------- ---------------- 5.4/9.2 MB 819.9 kB/s eta 0:00:05\n",
      "   ----------------------- ---------------- 5.4/9.2 MB 819.9 kB/s eta 0:00:05\n",
      "   ----------------------- ---------------- 5.4/9.2 MB 819.9 kB/s eta 0:00:05\n",
      "   ----------------------- ---------------- 5.4/9.2 MB 819.9 kB/s eta 0:00:05\n",
      "   ----------------------- ---------------- 5.4/9.2 MB 819.9 kB/s eta 0:00:05\n",
      "   ----------------------- ---------------- 5.4/9.2 MB 819.9 kB/s eta 0:00:05\n",
      "   ----------------------- ---------------- 5.4/9.2 MB 819.9 kB/s eta 0:00:05\n",
      "   ----------------------- ---------------- 5.4/9.2 MB 819.9 kB/s eta 0:00:05\n",
      "   ----------------------- ---------------- 5.4/9.2 MB 750.4 kB/s eta 0:00:06\n",
      "   ----------------------- ---------------- 5.4/9.2 MB 750.4 kB/s eta 0:00:06\n",
      "   ----------------------- ---------------- 5.4/9.2 MB 750.4 kB/s eta 0:00:06\n",
      "   ----------------------- ---------------- 5.4/9.2 MB 750.4 kB/s eta 0:00:06\n",
      "   ----------------------- ---------------- 5.4/9.2 MB 750.4 kB/s eta 0:00:06\n",
      "   ----------------------- ---------------- 5.4/9.2 MB 750.4 kB/s eta 0:00:06\n",
      "   ----------------------- ---------------- 5.4/9.2 MB 750.4 kB/s eta 0:00:06\n",
      "   ----------------------- ---------------- 5.4/9.2 MB 750.4 kB/s eta 0:00:06\n",
      "   ----------------------- ---------------- 5.4/9.2 MB 750.4 kB/s eta 0:00:06\n",
      "   ----------------------- ---------------- 5.4/9.2 MB 750.4 kB/s eta 0:00:06\n",
      "   ----------------------- ---------------- 5.4/9.2 MB 750.4 kB/s eta 0:00:06\n",
      "   ----------------------- ---------------- 5.4/9.2 MB 750.4 kB/s eta 0:00:06\n",
      "   ----------------------- ---------------- 5.4/9.2 MB 750.4 kB/s eta 0:00:06\n",
      "   ----------------------- ---------------- 5.4/9.2 MB 750.4 kB/s eta 0:00:06\n",
      "   ----------------------- ---------------- 5.4/9.2 MB 750.4 kB/s eta 0:00:06\n",
      "   ----------------------- ---------------- 5.4/9.2 MB 750.4 kB/s eta 0:00:06\n",
      "   ----------------------- ---------------- 5.4/9.2 MB 750.4 kB/s eta 0:00:06\n",
      "   ----------------------- ---------------- 5.4/9.2 MB 750.4 kB/s eta 0:00:06\n",
      "   ----------------------- ---------------- 5.4/9.2 MB 750.4 kB/s eta 0:00:06\n",
      "   ----------------------- ---------------- 5.4/9.2 MB 750.4 kB/s eta 0:00:06\n",
      "   ----------------------- ---------------- 5.4/9.2 MB 667.9 kB/s eta 0:00:06\n",
      "   ----------------------- ---------------- 5.4/9.2 MB 667.9 kB/s eta 0:00:06\n",
      "   ----------------------- ---------------- 5.4/9.2 MB 667.9 kB/s eta 0:00:06\n",
      "   ----------------------- ---------------- 5.5/9.2 MB 657.8 kB/s eta 0:00:06\n",
      "   ----------------------- ---------------- 5.5/9.2 MB 657.8 kB/s eta 0:00:06\n",
      "   ----------------------- ---------------- 5.5/9.2 MB 651.7 kB/s eta 0:00:06\n",
      "   ----------------------- ---------------- 5.5/9.2 MB 651.7 kB/s eta 0:00:06\n",
      "   ----------------------- ---------------- 5.5/9.2 MB 645.7 kB/s eta 0:00:06\n",
      "   ----------------------- ---------------- 5.5/9.2 MB 645.7 kB/s eta 0:00:06\n",
      "   ----------------------- ---------------- 5.5/9.2 MB 645.7 kB/s eta 0:00:06\n",
      "   ----------------------- ---------------- 5.5/9.2 MB 636.4 kB/s eta 0:00:06\n",
      "   ----------------------- ---------------- 5.5/9.2 MB 636.4 kB/s eta 0:00:06\n",
      "   ------------------------ --------------- 5.5/9.2 MB 629.6 kB/s eta 0:00:06\n",
      "   ------------------------ --------------- 5.6/9.2 MB 633.2 kB/s eta 0:00:06\n",
      "   ------------------------- -------------- 5.8/9.2 MB 647.3 kB/s eta 0:00:06\n",
      "   ------------------------- -------------- 5.8/9.2 MB 654.2 kB/s eta 0:00:06\n",
      "   -------------------------- ------------- 6.0/9.2 MB 667.9 kB/s eta 0:00:05\n",
      "   -------------------------- ------------- 6.1/9.2 MB 678.1 kB/s eta 0:00:05\n",
      "   --------------------------- ------------ 6.2/9.2 MB 689.3 kB/s eta 0:00:05\n",
      "   --------------------------- ------------ 6.4/9.2 MB 707.2 kB/s eta 0:00:04\n",
      "   ---------------------------- ----------- 6.6/9.2 MB 718.2 kB/s eta 0:00:04\n",
      "   ----------------------------- ---------- 6.8/9.2 MB 742.4 kB/s eta 0:00:04\n",
      "   ------------------------------ --------- 6.9/9.2 MB 749.8 kB/s eta 0:00:04\n",
      "   ------------------------------ --------- 7.1/9.2 MB 765.0 kB/s eta 0:00:03\n",
      "   ------------------------------- -------- 7.2/9.2 MB 772.2 kB/s eta 0:00:03\n",
      "   -------------------------------- ------- 7.4/9.2 MB 787.9 kB/s eta 0:00:03\n",
      "   -------------------------------- ------- 7.6/9.2 MB 803.6 kB/s eta 0:00:03\n",
      "   --------------------------------- ------ 7.7/9.2 MB 815.6 kB/s eta 0:00:02\n",
      "   ---------------------------------- ----- 7.8/9.2 MB 824.6 kB/s eta 0:00:02\n",
      "   ---------------------------------- ----- 8.0/9.2 MB 836.1 kB/s eta 0:00:02\n",
      "   ----------------------------------- ---- 8.1/9.2 MB 848.8 kB/s eta 0:00:02\n",
      "   ------------------------------------ --- 8.3/9.2 MB 864.9 kB/s eta 0:00:02\n",
      "   ------------------------------------- -- 8.5/9.2 MB 880.5 kB/s eta 0:00:01\n",
      "   ------------------------------------- -- 8.7/9.2 MB 894.1 kB/s eta 0:00:01\n",
      "   -------------------------------------- - 8.9/9.2 MB 910.1 kB/s eta 0:00:01\n",
      "   ---------------------------------------  9.0/9.2 MB 918.9 kB/s eta 0:00:01\n",
      "   ---------------------------------------  9.1/9.2 MB 926.4 kB/s eta 0:00:01\n",
      "   ---------------------------------------  9.2/9.2 MB 930.2 kB/s eta 0:00:01\n",
      "   ---------------------------------------  9.2/9.2 MB 923.8 kB/s eta 0:00:01\n",
      "   ---------------------------------------  9.2/9.2 MB 923.8 kB/s eta 0:00:01\n",
      "   ---------------------------------------- 9.2/9.2 MB 918.2 kB/s eta 0:00:00\n",
      "Installing collected packages: scikit-learn\n",
      "  Attempting uninstall: scikit-learn\n",
      "    Found existing installation: scikit-learn 1.3.0\n",
      "    Uninstalling scikit-learn-1.3.0:\n",
      "      Successfully uninstalled scikit-learn-1.3.0\n",
      "Successfully installed scikit-learn-1.3.2\n",
      "Note: you may need to restart the kernel to use updated packages.\n"
     ]
    }
   ],
   "source": [
    "pip install scikit-learn==1.3.2"
   ]
  },
  {
   "cell_type": "code",
   "execution_count": 20,
   "metadata": {},
   "outputs": [
    {
     "name": "stdout",
     "output_type": "stream",
     "text": [
      "Requirement already satisfied: joblib==1.2.0 in c:\\users\\khansa\\anaconda3\\lib\\site-packages (1.2.0)\n",
      "Note: you may need to restart the kernel to use updated packages.\n"
     ]
    }
   ],
   "source": [
    "pip install joblib==1.2.0"
   ]
  },
  {
   "cell_type": "code",
   "execution_count": null,
   "metadata": {},
   "outputs": [],
   "source": []
  }
 ],
 "metadata": {
  "kernelspec": {
   "display_name": "Python 3 (ipykernel)",
   "language": "python",
   "name": "python3"
  },
  "language_info": {
   "codemirror_mode": {
    "name": "ipython",
    "version": 3
   },
   "file_extension": ".py",
   "mimetype": "text/x-python",
   "name": "python",
   "nbconvert_exporter": "python",
   "pygments_lexer": "ipython3",
   "version": "3.11.4"
  }
 },
 "nbformat": 4,
 "nbformat_minor": 4
}
